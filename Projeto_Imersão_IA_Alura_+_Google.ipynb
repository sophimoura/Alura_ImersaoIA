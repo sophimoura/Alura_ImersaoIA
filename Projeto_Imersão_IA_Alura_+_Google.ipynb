{
  "nbformat": 4,
  "nbformat_minor": 0,
  "metadata": {
    "colab": {
      "provenance": [],
      "authorship_tag": "ABX9TyPHa6furwhbj7HqmL47kkGj",
      "include_colab_link": true
    },
    "kernelspec": {
      "name": "python3",
      "display_name": "Python 3"
    },
    "language_info": {
      "name": "python"
    }
  },
  "cells": [
    {
      "cell_type": "markdown",
      "metadata": {
        "id": "view-in-github",
        "colab_type": "text"
      },
      "source": [
        "<a href=\"https://colab.research.google.com/github/sophimoura/Alura_ImersaoIA/blob/main/Projeto_Imers%C3%A3o_IA_Alura_%2B_Google.ipynb\" target=\"_parent\"><img src=\"https://colab.research.google.com/assets/colab-badge.svg\" alt=\"Open In Colab\"/></a>"
      ]
    },
    {
      "cell_type": "code",
      "source": [
        "!pip install -q -U google-generativeai"
      ],
      "metadata": {
        "id": "Kvsr0Ij-g3MP"
      },
      "execution_count": null,
      "outputs": []
    },
    {
      "cell_type": "code",
      "execution_count": null,
      "metadata": {
        "colab": {
          "base_uri": "https://localhost:8080/"
        },
        "id": "8dVTug0sg0ez",
        "outputId": "d658ebc4-5118-429c-a233-9408385cfdf7"
      },
      "outputs": [
        {
          "output_type": "stream",
          "name": "stdout",
          "text": [
            "CALCULO DAS MEDIAS DA ETAPA 1 E DA ETAPA 2\n"
          ]
        }
      ],
      "source": [
        "# Import the Python SDK\n",
        "import google.generativeai as genai\n",
        "import numpy as np\n",
        "from google.colab import userdata\n",
        "\n",
        "# API key\n",
        "api_key = userdata.get('SECRET_KEY')\n",
        "genai.configure(api_key=api_key)\n",
        "\n",
        "# Cálculo das médias\n",
        "print('CALCULO DAS MÉDIAS DA ETAPA 1 E DA ETAPA 2')\n",
        "PROVA1_1 = float(input('Insira sua nota da PROVA 1 DA ETAPA 1 (0 a 10): '))\n",
        "PROVA2_1 = float(input('Insira sua nota da PROVA 2 DA ETAPA 1 (0 a 10): '))\n",
        "PROVA1_2 = float(input('Insira sua da nota PROVA 1 DA ETAPA 2 (0 a 10): '))\n",
        "PROVA2_2 = float(input('Insira sua da nota PROVA 2 DA ETAPA 2 (0 a 10): '))\n",
        "\n",
        "# Verificação das notas para garantir que estejam dentro do intervalo válido\n",
        "if not all(0 <= nota <= 10 for nota in [PROVA1_1, PROVA2_1, PROVA1_2, PROVA2_2]):\n",
        "    print(\"Por favor, insira notas válidas no intervalo de 0 a 10.\")\n",
        "else:\n",
        "    media_ETAPA1 = (PROVA1_1 + PROVA2_1) / 2\n",
        "    media_ETAPA2 = (PROVA1_2 + PROVA2_2) / 2\n",
        "\n",
        "    # Criação de títulos e textos para representar os resultados das médias\n",
        "    titulo_ETAPA1 = \"Média da ETAPA 1\"\n",
        "    texto_ETAPA1 = f\"A média da ETAPA 1 é: {media_ETAPA1}\"\n",
        "    titulo_ETAPA2 = \"Média da N2\"\n",
        "    texto_ETAPA2 = f\"A média da ETAPA 2 é: {media_ETAPA2}\"\n",
        "\n",
        "    # Criação de embeddings para os resultados das médias\n",
        "    embedding_ETAPA1 = genai.embed_content(model=\"models/embedding-001\",\n",
        "                                            content=texto_ETAPA1,\n",
        "                                            title=titulo_ETAPA1,\n",
        "                                            task_type=\"RETRIEVAL_DOCUMENT\")[\"embedding\"]\n",
        "    embedding_ETAPA2 = genai.embed_content(model=\"models/embedding-001\",\n",
        "                                            content=texto_ETAPA2,\n",
        "                                            title=titulo_ETAPA2,\n",
        "                                            task_type=\"RETRIEVAL_DOCUMENT\")[\"embedding\"]\n",
        "\n",
        "    # Cálculo da média ponderada\n",
        "    print('CÁLCULO DA MÉDIA PARCIAL (MP)')\n",
        "    Res__1 = media_ETAPA1 * 2\n",
        "    print(' (Resultado da multiplicação da média da ETAPA 1 por 2) ' + str(Res__1))\n",
        "    Res__2 = media_ETAPA2 * 3\n",
        "    print(' (Resultado da multiplicação da média da ETAPA 2 por 3) ' + str(Res__2))\n",
        "    Res__3 = Res__1 + Res__2\n",
        "    print(' (Resultado da soma das notas dividido por 5) ' + str(Res__3))\n",
        "    media_ponderada = Res__3 / 5\n",
        "    print(' Média Ponderada: ' + str(media_ponderada))\n",
        "\n",
        "    # Condições de aprovação\n",
        "    if media_ponderada >= 6:\n",
        "        print('Você foi: APROVADO')\n",
        "    elif media_ponderada >= 3:\n",
        "        print('Você deverá realizar a Avaliação Final (AF) para obter uma média de aprovação!')\n",
        "        AF = float(input('Insira sua nota da AF: '))\n",
        "        Soma = AF + media_ponderada\n",
        "        MF = Soma / 2\n",
        "        if MF > 5:\n",
        "            print('Você foi: APROVADO ')\n",
        "        else:\n",
        "            print('Você foi REPROVADO')\n",
        "    else:\n",
        "        print('Você foi: REPROVADO')"
      ]
    },
    {
      "cell_type": "code",
      "source": [],
      "metadata": {
        "colab": {
          "base_uri": "https://localhost:8080/"
        },
        "id": "83oy3qtitmTz",
        "outputId": "5e9aa558-1bb3-4844-b913-367afb03a295"
      },
      "execution_count": 28,
      "outputs": [
        {
          "output_type": "stream",
          "name": "stdout",
          "text": [
            "Qual a média da Etapa 1\n"
          ]
        }
      ]
    }
  ]
}